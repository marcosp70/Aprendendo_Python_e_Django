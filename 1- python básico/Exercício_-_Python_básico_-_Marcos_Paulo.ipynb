{
 "cells": [
  {
   "cell_type": "code",
   "execution_count": null,
   "id": "36ea2e75",
   "metadata": {},
   "outputs": [],
   "source": [
    "#Marcos Paulo Santos da Silva - Bolsista de pesquisa e extensão\n",
    "\n",
    "Faça as seguintes funções (seguindo as orientações do slide anterior):\n",
    "    \n",
    "* 1) maior(a,b): Retorna o maior valor entre a e b\n",
    "* 2) soma(lista,x): retorna o somatório dos valores passados pela lista. O argumento x deve ser opcional que, se passado, será somado ao resultado final.\n",
    "* 3) media(lista): Retorna a média dos valores passados pela lista.\n",
    "* 4) valores_iguais(lista1,lista2): retorna uma lista contendo os valores iguais entre as duas listas passadas como parâmetro\n",
    "* 5) indice_prim_valor_igual(lista1,lista2): retorna a posição na lista1 do primeiro valor igual ao da lista2. Caso não exista, é retornado None."
   ]
  },
  {
   "cell_type": "code",
   "execution_count": 5,
   "id": "e9e7661c",
   "metadata": {},
   "outputs": [],
   "source": [
    "def maior(a,b):\n",
    "    if a>b:\n",
    "        maior = a\n",
    "    else:\n",
    "        maior = b"
   ]
  },
  {
   "cell_type": "code",
   "execution_count": 6,
   "id": "cae8d3e7",
   "metadata": {},
   "outputs": [
    {
     "data": {
      "text/plain": [
       "3"
      ]
     },
     "execution_count": 6,
     "metadata": {},
     "output_type": "execute_result"
    }
   ],
   "source": [
    "maior(1,3)"
   ]
  },
  {
   "cell_type": "code",
   "execution_count": 7,
   "id": "4b6f07fb",
   "metadata": {},
   "outputs": [],
   "source": [
    "\n",
    "def soma(lista,x):\n",
    "    soma = 0\n",
    "    for num in lista:\n",
    "        soma = num + soma\n",
    "    soma = soma + x\n",
    "    return soma\n",
    "        \n",
    "        "
   ]
  },
  {
   "cell_type": "code",
   "execution_count": 8,
   "id": "e7446f2e",
   "metadata": {},
   "outputs": [
    {
     "data": {
      "text/plain": [
       "7"
      ]
     },
     "execution_count": 8,
     "metadata": {},
     "output_type": "execute_result"
    }
   ],
   "source": [
    "soma([1,2,3],1)"
   ]
  },
  {
   "cell_type": "code",
   "execution_count": 12,
   "id": "6dae5b6b",
   "metadata": {},
   "outputs": [],
   "source": [
    "def media(lista):\n",
    "    tamanho = len(lista) #tamanho da lista\n",
    "    soma = 0 #somatorio dos valores da lista\n",
    "    for num in lista:\n",
    "        soma = num + soma\n",
    "    soma = soma/tamanho\n",
    "    return soma\n",
    "        "
   ]
  },
  {
   "cell_type": "code",
   "execution_count": 16,
   "id": "15cabb71",
   "metadata": {},
   "outputs": [
    {
     "data": {
      "text/plain": [
       "2.0"
      ]
     },
     "execution_count": 16,
     "metadata": {},
     "output_type": "execute_result"
    }
   ],
   "source": [
    "media([1,2,3,2])"
   ]
  },
  {
   "cell_type": "code",
   "execution_count": 20,
   "id": "3907beb3",
   "metadata": {},
   "outputs": [],
   "source": [
    "def valores_iguais(lista1,lista2):\n",
    "    valores_iguais = [] #lista com valores iguais\n",
    "    for num1 in lista1:\n",
    "        for num2 in lista2:\n",
    "            if num1 == num2:\n",
    "                valores_iguais.append(num1)\n",
    "    return valores_iguais        \n",
    "                "
   ]
  },
  {
   "cell_type": "code",
   "execution_count": 24,
   "id": "b0686d6f",
   "metadata": {},
   "outputs": [
    {
     "data": {
      "text/plain": [
       "[2, 5]"
      ]
     },
     "execution_count": 24,
     "metadata": {},
     "output_type": "execute_result"
    }
   ],
   "source": [
    "valores_iguais([1,2,3,4,5],[2,5,6,7,8])"
   ]
  },
  {
   "cell_type": "code",
   "execution_count": 42,
   "id": "6e67d836",
   "metadata": {},
   "outputs": [],
   "source": [
    "#def indice_prim_valor_igual(lista1,lista2):\n",
    "#    indice = -1\n",
    "#    for num1 in lista1:\n",
    "#        for i,num2 in enumerate(lista2):\n",
    "#            if num1 == num2:\n",
    "#                break\n",
    "#        indice = indice + 1                \n",
    "#    if indice == -1:\n",
    "#        indice = None\n",
    "#    return indice"
   ]
  },
  {
   "cell_type": "code",
   "execution_count": 51,
   "id": "81428d2c",
   "metadata": {},
   "outputs": [],
   "source": [
    "def indice_prim_valor_igual(lista1,lista2):\n",
    "    indice = -1     #posição do num na lista1\n",
    "    achou = 0       #variável de controle para saber se achou ou não\n",
    "    for num1 in lista1:\n",
    "        if achou != 1:\n",
    "            indice = indice + 1\n",
    "            for num2 in lista2:\n",
    "                if num1 == num2:\n",
    "                    achou = 1\n",
    "    if achou == 0:\n",
    "        indice = None\n",
    "    return indice\n",
    "            "
   ]
  },
  {
   "cell_type": "code",
   "execution_count": 54,
   "id": "64630e3a",
   "metadata": {},
   "outputs": [
    {
     "data": {
      "text/plain": [
       "3"
      ]
     },
     "execution_count": 54,
     "metadata": {},
     "output_type": "execute_result"
    }
   ],
   "source": [
    "indice_prim_valor_igual([119,19,4,15,19],[0,2,156,15])"
   ]
  },
  {
   "cell_type": "code",
   "execution_count": null,
   "id": "35521d6a",
   "metadata": {},
   "outputs": [],
   "source": []
  }
 ],
 "metadata": {
  "kernelspec": {
   "display_name": "Python 3 (ipykernel)",
   "language": "python",
   "name": "python3"
  },
  "language_info": {
   "codemirror_mode": {
    "name": "ipython",
    "version": 3
   },
   "file_extension": ".py",
   "mimetype": "text/x-python",
   "name": "python",
   "nbconvert_exporter": "python",
   "pygments_lexer": "ipython3",
   "version": "3.9.7"
  }
 },
 "nbformat": 4,
 "nbformat_minor": 5
}
