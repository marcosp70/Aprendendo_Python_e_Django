{
 "cells": [
  {
   "cell_type": "code",
   "execution_count": 15,
   "id": "d1f9309a",
   "metadata": {},
   "outputs": [],
   "source": [
    "class Autor:\n",
    "\n",
    "    def __init__(self, primeiro_nome, nome_do_meio, ultimo_nome):\n",
    "        self.primeiro_nome = primeiro_nome\n",
    "        self.nome_do_meio = nome_do_meio\n",
    "        self.ultimo_nome = ultimo_nome\n",
    "    \n",
    "    def __str__(self) -> str:\n",
    "        if self.nome_do_meio==\"\":\n",
    "            self.nome_citado = f\"Nome: {self.primeiro_nome} {self.ultimo_nome}\"\n",
    "        else:\n",
    "            self.nome_citado = f\"Nome: {self.primeiro_nome} {self.nome_do_meio} {self.ultimo_nome}\"\n",
    "\n",
    "        return self.nome_citado\n",
    "\n",
    "    def nome_como_citado(self):\n",
    "        self.letra_primeiro_nome = self.primeiro_nome.upper()\n",
    "        self.nome = self.ultimo_nome.upper() + \" \" + self.letra_primeiro_nome[0] + \".\"\n",
    "        return self.nome"
   ]
  },
  {
   "cell_type": "code",
   "execution_count": 21,
   "id": "58c596d5",
   "metadata": {},
   "outputs": [
    {
     "name": "stdout",
     "output_type": "stream",
     "text": [
      "Nome: Paulo Coelho COELHO P.\n",
      "Nome: Antoine de Saint-Exupéry DE SAINT-EXUPÉRY A.\n",
      "Nome: Marcos Paulo Santos da Silva SILVA M.\n"
     ]
    }
   ],
   "source": [
    "autor1 = Autor(\"Paulo\", \"\", \"Coelho\")\n",
    "autor2 = Autor(\"Antoine\",\"\",\"de Saint-Exupéry\")\n",
    "autor3 = Autor(\"Marcos\",\"Paulo Santos da\",\"Silva\")\n",
    "print(autor1,autor1.nome_como_citado())\n",
    "print(autor2,autor2.nome_como_citado())\n",
    "print(autor3,autor3.nome_como_citado())"
   ]
  },
  {
   "cell_type": "code",
   "execution_count": 22,
   "id": "be95793f",
   "metadata": {},
   "outputs": [],
   "source": [
    "class Livro:\n",
    "\n",
    "    livros = {}\n",
    "\n",
    "    def __init__(self, titulo, ano, autores=[]):\n",
    "        self._titulo = titulo\n",
    "        self.ano = ano\n",
    "        self.autores = autores\n",
    "\n",
    "        for i in range(len(self.autores)):\n",
    "            if self.autores[i] in Livro.livros:\n",
    "                print(\"Ja ta aq \")\n",
    "                Livro.livros[self.autores[i]].append(self._titulo)\n",
    "            \n",
    "            else:\n",
    "                Livro.livros[self.autores[i]] = [self.titulo]\n",
    "        \n",
    "    \n",
    "    \n",
    "    def __str__(self) -> str:\n",
    "        return f\"O título é {self._titulo}, seu ano é {self.ano} e os autores são: {self.autores}\"\n",
    "\n",
    "    @property\n",
    "    def titulo(self):\n",
    "        return self._titulo\n",
    "\n",
    "    @titulo.setter\n",
    "    def titulo(self, espaco):\n",
    "        if espaco == \"\":\n",
    "            raise ValueError(\"O título não pode estar vazio\")\n",
    "\n",
    "        self._titulo = espaco"
   ]
  },
  {
   "cell_type": "code",
   "execution_count": 23,
   "id": "a5357532",
   "metadata": {},
   "outputs": [
    {
     "name": "stdout",
     "output_type": "stream",
     "text": [
      "O título é O Alquimista, seu ano é 1988 e os autores são: ['Paulo Coelho']\n",
      "O título é O pequeno príncipe, seu ano é 1943 e os autores são: ['Antoine de Saint-Exupéry']\n",
      "O título é Testando o código do prof. Hassan, seu ano é 2022 e os autores são: ['Marcos Paulo Santos da Silva', 'Marcos Paulo 2']\n"
     ]
    }
   ],
   "source": [
    "livro1 = Livro(\"O Alquimista\",\"1988\",[\"Paulo Coelho\"])\n",
    "livro2 = Livro(\"O pequeno príncipe\",\"1943\",[\"Antoine de Saint-Exupéry\"])\n",
    "livro3 = Livro(\"Testando o código do prof. Hassan\",\"2022\",[\"Marcos Paulo Santos da Silva\",\"Marcos Paulo 2\"])\n",
    "# livro1.titulo = \"\"  -> ValueError: O título não pode estar vazio \n",
    "print(livro1)\n",
    "print(livro2)\n",
    "print(livro3)"
   ]
  },
  {
   "cell_type": "code",
   "execution_count": 24,
   "id": "ce200a25",
   "metadata": {},
   "outputs": [],
   "source": [
    "class Biblioteca(Livro):\n",
    "    def __init__(self):\n",
    "        pass\n",
    "    def livros_por_autor():\n",
    "        return Livro.livros"
   ]
  },
  {
   "cell_type": "code",
   "execution_count": 25,
   "id": "e2380f9b",
   "metadata": {},
   "outputs": [
    {
     "name": "stdout",
     "output_type": "stream",
     "text": [
      "{'Paulo Coelho': ['O Alquimista'], 'Antoine de Saint-Exupéry': ['O pequeno príncipe'], 'Marcos Paulo Santos da Silva': ['Testando o código do prof. Hassan'], 'Marcos Paulo 2': ['Testando o código do prof. Hassan']}\n"
     ]
    }
   ],
   "source": [
    "biblioteca1 = Biblioteca\n",
    "print(biblioteca1.livros_por_autor())"
   ]
  }
 ],
 "metadata": {
  "kernelspec": {
   "display_name": "Python 3 (ipykernel)",
   "language": "python",
   "name": "python3"
  },
  "language_info": {
   "codemirror_mode": {
    "name": "ipython",
    "version": 3
   },
   "file_extension": ".py",
   "mimetype": "text/x-python",
   "name": "python",
   "nbconvert_exporter": "python",
   "pygments_lexer": "ipython3",
   "version": "3.9.8"
  }
 },
 "nbformat": 4,
 "nbformat_minor": 5
}
