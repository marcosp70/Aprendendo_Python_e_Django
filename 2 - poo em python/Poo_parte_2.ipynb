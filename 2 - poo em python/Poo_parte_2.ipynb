{
 "cells": [
  {
   "cell_type": "code",
   "execution_count": null,
   "metadata": {},
   "outputs": [],
   "source": [
    "#Aquecimento\n",
    "#Exercício 0.1\n",
    "#\n",
    "#Implemente a função metodos_vetor que recebe como parâmetro um vetor e retorna o próprio, porém com as seguintes modificações:\n",
    "#\n",
    "#    Ordene o vetor de forma crescente\n",
    "#    Remova o último elemento do vetor (quando já ordenado)\n",
    "#    Insira a palavra abacate no início\n",
    "#    Retorne o vetor resultante\n"
   ]
  },
  {
   "cell_type": "code",
   "execution_count": 8,
   "metadata": {},
   "outputs": [],
   "source": [
    "def metodos_vetor(vetor):\n",
    "    vetor = sorted(vetor)\n",
    "    vetor.pop()\n",
    "    vetor.insert(0,\"abacate\")\n",
    "\n",
    "    return vetor\n"
   ]
  },
  {
   "cell_type": "code",
   "execution_count": 9,
   "metadata": {},
   "outputs": [
    {
     "name": "stdout",
     "output_type": "stream",
     "text": [
      "['abacate', 'abacaxi', 'maçã', 'pera']\n"
     ]
    }
   ],
   "source": [
    "vetor_str = [\"uva\", \"maçã\", \"abacaxi\", \"pera\"]\n",
    "\n",
    "\n",
    "vetor_final = metodos_vetor(vetor_str)\n",
    "print(vetor_final)\n",
    "\n"
   ]
  },
  {
   "cell_type": "code",
   "execution_count": 11,
   "metadata": {},
   "outputs": [],
   "source": [
    "#Exercício 0.2\n",
    "#\n",
    "#Implemente a função metodos_string que recebe como parâmetro uma string e a retorna com as seguintes modificações:\n",
    "#\n",
    "#    Deixá-la toda maiúscula\n",
    "#    Substituir todas as letras \"o\" por \"a\". Veja o método replace será útil\n",
    "#    Escreva a string resultante\n"
   ]
  },
  {
   "cell_type": "code",
   "execution_count": 13,
   "metadata": {},
   "outputs": [],
   "source": [
    "def metodos_string(lista):\n",
    "    lista = lista.upper()\n",
    "    lista = lista.replace(\"O\",\"A\")\n",
    "    return lista"
   ]
  },
  {
   "cell_type": "code",
   "execution_count": 14,
   "metadata": {},
   "outputs": [
    {
     "name": "stdout",
     "output_type": "stream",
     "text": [
      "CAMEMARAÇÃA\n",
      "ALHA\n"
     ]
    }
   ],
   "source": [
    "str_1 = \"comemoração\"\n",
    "str_2 = \"olho\"\n",
    "\n",
    "print(metodos_string(str_1))\n",
    "print(metodos_string(str_2))"
   ]
  },
  {
   "cell_type": "code",
   "execution_count": 15,
   "metadata": {},
   "outputs": [],
   "source": [
    "#Exercício 1: Conversão de datas\n",
    "#\n",
    "#Implemente a função converte_data que recebe como parâmetro uma data no formato DD/MM/YYYY (ex: 09/03/2021) e converte para o formato por extenso \"DD de M de YYYY\" (ou seja, 09 de março de 2020) e escreva-a.\n",
    "#\n",
    "#Adiciona abaixo a função obtem_mes implementada no exercício 0.2 (unidade 2) para te auxiliar. Além disso, o método split será útil também.\n",
    "\n",
    "\n"
   ]
  },
  {
   "cell_type": "code",
   "execution_count": 16,
   "metadata": {},
   "outputs": [],
   "source": [
    "def obtem_mes(mes):\n",
    "    if mes == \"01\":\n",
    "        mes = \"janeiro\"\n",
    "    elif mes == \"02\":\n",
    "        mes = \"fevereiro\"\n",
    "    elif mes == \"03\":\n",
    "        mes = \"março\"\n",
    "    elif mes == \"04\":\n",
    "        mes = \"abril\"\n",
    "    elif mes == \"05\":\n",
    "        mes = \"maio\"\n",
    "    elif mes == \"06\":\n",
    "        mes = \"junho\"\n",
    "    elif mes == \"07\":\n",
    "        mes = \"julho\"\n",
    "    elif mes == \"08\":\n",
    "        mes = \"agosto\"\n",
    "    elif mes == \"09\":\n",
    "        mes = \"setembro\"\n",
    "    elif mes == \"10\":\n",
    "        mes = \"outubro\"\n",
    "    elif mes == \"11\":\n",
    "        mes = \"novembro\"\n",
    "    elif mes == \"12\":\n",
    "        mes = \"dezembro\"\n",
    "    \n",
    "    return mes\n",
    "    \n",
    "def converte_data(data):\n",
    "    dia = data[0] + data[1]\n",
    "    mes = data[3] + data[4]\n",
    "    ano = data[6] + data[7] + data[8] + data[9]\n",
    "    mes = obtem_mes(mes)\n",
    "\n",
    "    return f\"{dia} de {mes} de {ano}\""
   ]
  },
  {
   "cell_type": "code",
   "execution_count": 17,
   "metadata": {},
   "outputs": [
    {
     "name": "stdout",
     "output_type": "stream",
     "text": [
      "31 de outubro de 2020\n",
      "22 de janeiro de 2004\n"
     ]
    }
   ],
   "source": [
    "data_1 = \"31/10/2020\"\n",
    "data_2 = \"22/01/2004\"\n",
    "\n",
    "print(converte_data(data_1))\n",
    "print(converte_data(data_2))\n",
    "\n"
   ]
  },
  {
   "cell_type": "code",
   "execution_count": 3,
   "metadata": {},
   "outputs": [],
   "source": [
    "# 2)\n",
    "#     elimina_caracteres (2 parâmetros) Elimina todas as ocorrências dos caracteres especificados de um texto. Tanto o texto quanto os caracteres a serem removidos são passados como parâmetros. Exemplo: elimina_caracteres('correndo contra o tempo', 'coe') devem resultar na string rrnd cntra tmp. Não altere o for já criado! O método .replace pode te ajudar! consulte documentação ou os slides.\n",
    "\n",
    "# DICA: Será necessario usar o .replace uma vez para cada caractere especificado (ou seja, dentro de um laço).\n",
    "\n",
    "\n",
    "#     substitua_caracteres: (3 parâmetros) Dado um texto, uma string de procura e uma string de reposição, sendo que a string de procura e reposição são de mesmo tamanho. Substitua no texto o caractere na posição i da string de procura pelo caractere na mesma posição i na string de reposição. O texto, os caracteres a serem procurados no texto e os caracteres a serem colocados no lugar serão passados como parâmetro.\n",
    "\n",
    "# Exemplo: substitua_caracteres('o sapo nao lava o pe', 'aoe', 'iiu') devem resultar na string 'i sipi nii livi i pu'."
   ]
  },
  {
   "cell_type": "code",
   "execution_count": 2,
   "metadata": {},
   "outputs": [],
   "source": [
    "def elimina_caracteres(texto, caracteres_para_eliminar):\n",
    "    for caracter_eliminar in caracteres_para_eliminar:\n",
    "        texto = texto.replace(caracter_eliminar,\"\")\n",
    "    return texto"
   ]
  },
  {
   "cell_type": "code",
   "execution_count": 3,
   "metadata": {},
   "outputs": [
    {
     "name": "stdout",
     "output_type": "stream",
     "text": [
      "rrnd ntra  tmp\n",
      "trg para tgrs trsts\n"
     ]
    }
   ],
   "source": [
    "resultado_1 = elimina_caracteres('correndo contra o tempo', 'coe')\n",
    "resultado_2 = elimina_caracteres('trigo para tigres tristes', 'ieo') #saída: trg para tgrs trsts\n",
    "print(resultado_1)\n",
    "print(resultado_2)"
   ]
  },
  {
   "cell_type": "code",
   "execution_count": 1,
   "metadata": {},
   "outputs": [],
   "source": [
    "def substitua_caracteres(texto, caracteres_procura, caracteres_substituir_por):\n",
    "    for i in range(len(caracteres_procura)):\n",
    "        caractere_procura = caracteres_procura[i]\n",
    "        caractere_substituir_por = caracteres_substituir_por[i]\n",
    "        texto = texto.replace(caractere_procura,caractere_substituir_por)\n",
    "        \n",
    "    return texto"
   ]
  },
  {
   "cell_type": "code",
   "execution_count": 2,
   "metadata": {},
   "outputs": [
    {
     "name": "stdout",
     "output_type": "stream",
     "text": [
      "i sipi nii livi i pu\n",
      "unu cempreu umu urerunhu\n"
     ]
    }
   ],
   "source": [
    "resultado_1 = substitua_caracteres('o sapo nao lava o pe', 'aoe', 'iiu')\n",
    "resultado_2 = substitua_caracteres('ana comprou uma ariranha', 'aoi', 'uee') #saida: unu cempreu umu urer\n",
    "\n",
    "print(resultado_1)\n",
    "print(resultado_2)"
   ]
  },
  {
   "cell_type": "code",
   "execution_count": 4,
   "metadata": {},
   "outputs": [],
   "source": [
    "# Exercício 3: Palíndromos 👑\n",
    "\n",
    "# Segundo a Oxford Languages, plaíndromos são textos que se pode ler, indiferentemente, da esquerda para a direita ou vice-versa. Por exemplo: \"arara\", \"asa\", \"mirim\"... E também as frases: \"A cara rajada da jararaca\", \"Socorram-me, subi no ônibus em Marrocos\"...Perceba que, em frases, deve-se ignorar a pontuação, acentuação, espaços e maiúsculas/minúsculas.\n",
    "\n",
    "# Implemente a função verifica_palindromo que recebe como parâmetro uma string (texto ou única palavra) e retorna true caso o parâmetro seja um palíndromo ou false, caso contrário.\n",
    "\n",
    "# As funções do exercício anterior podem lhe ajudar para processamento de string, para isso chame-as e não implemente-as. Ignore as seguintes pontuações: , - ! ? e o espaço em branco. Além disso, acentos agudos, til e circunflexo em vogais devem ser ignorados.\n"
   ]
  },
  {
   "cell_type": "code",
   "execution_count": 1,
   "metadata": {},
   "outputs": [],
   "source": [
    "def transforma_frase(texto): #retira os acentos, pontos de exclamção e etc\n",
    "    acentos = [\"á\",\"à\",\"ã\",\"â\",\"é\",\"ê\",\"è\",\"ẽ\",\"í\",\"ì\",\"ĩ\",\"î\",\"ó\",\"ò\",\"ô\",\"õ\",\"ú\",\"ù\",\"û\",\"ũ\"]\n",
    "    letras = [\"a\",\"a\",\"a\",\"a\",\"e\",\"e\",\"e\",\"e\",\"i\",\"i\",\"i\",\"i\",\"o\",\"o\",\"o\",\"o\",\"u\",\"u\",\"u\",\"u\"]\n",
    "    texto = texto.replace(\" \",\"\")\n",
    "    for acento in range(len(acentos)):\n",
    "        texto = texto.replace(acentos[acento],letras[acento])\n",
    "    texto = texto.replace(\"-\",\"\")\n",
    "    texto = texto.replace(\"?\",\"\")\n",
    "    texto = texto.replace(\"!\",\"\")\n",
    "    texto = texto.replace(\".\",\"\")\n",
    "    texto = texto.replace(\",\",\"\")\n",
    "    texto = texto.lower()\n",
    "\n",
    "    return texto\n",
    "\n",
    "def verifica_palindromo(texto): #verifica se é palindromo\n",
    "    texto = transforma_frase(texto)\n",
    "    novo_texto = texto[::-1]\n",
    "    return novo_texto==texto"
   ]
  },
  {
   "cell_type": "code",
   "execution_count": 2,
   "metadata": {},
   "outputs": [
    {
     "name": "stdout",
     "output_type": "stream",
     "text": [
      "True\n",
      "False\n"
     ]
    }
   ],
   "source": [
    "print(verifica_palindromo(\"após a sopa\")) \n",
    "print(verifica_palindromo(\"azul\"))"
   ]
  },
  {
   "cell_type": "code",
   "execution_count": 8,
   "metadata": {},
   "outputs": [],
   "source": [
    "\n",
    "# Exercício 4: Funções como parâmetro 1\n",
    "\n",
    "# Em Python podemos passar as funções como parâmetro -valor de uma variável- e vamos treinar isso (consulte o tutorial no bloco de código anterior).\n",
    "\n",
    "# Veja a função da_oi_para é uma função que imprime uma \"interface de dar oi\" para determinada pessoa. A forma de se dar oi é controlado pelo parâmetro função_de_dar_oi, que é uma função que recebe o nome da pessoa e é responsável por retorna uma string com o \"oi\" devidamente escrito em seu idioma. Além desse parâmetro, a função da_oi_para espera o nome da pessoa. No bloco abaixo temos sua implementação, repare tambpem nas vezes que ela foi invocada.\n",
    "\n",
    "\n",
    "# Invoque a função da_oi_para em que o parâmetro funcao_de_dar_oi será uma função criada por você. Lembre-se que ela deve obrigatóriamente possuir o parâmetro do nome da pessoa e retorna uma string.\n",
    "\n",
    "# Crie, pelo menos, a função de três formas diferentes, tal como o exemplo\n",
    "\n",
    "# PS: Lembre-se de sempre rodar a função antes e trocar os null\n"
   ]
  },
  {
   "cell_type": "code",
   "execution_count": 9,
   "metadata": {},
   "outputs": [],
   "source": [
    "oi_portugues = lambda str_pessoa : f\"Olá {str_pessoa}, tudo bem?\"\n",
    "oi_ingles = lambda str_pessoa: f\"Hello {str_pessoa}, how are you?\"\n",
    "oi_informal = lambda str_pessoa: f\"Eae {str_pessoa}, blz?\"\n",
    "\n",
    "def da_oi_para(funcao_de_dar_oi, str_pessoa):\n",
    "    str_oi = funcao_de_dar_oi(str_pessoa)\n",
    "    print(\"\\n============= Minha linda interface de dar oi =========\")\n",
    "    print(str_oi)\n",
    "    print(\"=========================================================\")"
   ]
  },
  {
   "cell_type": "code",
   "execution_count": 10,
   "metadata": {},
   "outputs": [
    {
     "name": "stdout",
     "output_type": "stream",
     "text": [
      "\n",
      "============= Minha linda interface de dar oi =========\n",
      "Olá Marcos, tudo bem?\n",
      "=========================================================\n",
      "\n",
      "============= Minha linda interface de dar oi =========\n",
      "Hello Marcos, how are you?\n",
      "=========================================================\n",
      "\n",
      "============= Minha linda interface de dar oi =========\n",
      "Eae Marcos, blz?\n",
      "=========================================================\n"
     ]
    }
   ],
   "source": [
    "da_oi_para(oi_portugues,\"Marcos\")\n",
    "da_oi_para(oi_ingles,\"Marcos\")\n",
    "da_oi_para(oi_informal,\"Marcos\")"
   ]
  },
  {
   "cell_type": "code",
   "execution_count": 11,
   "metadata": {},
   "outputs": [],
   "source": [
    "# Exercício 5: Funções como parâmetro 2\n",
    "\n",
    "# Você irá implementar a função executa_operacao_vetor que recebe como parâmetro uma operação (função) e dois vetores, vetor1 e vetor2, de mesmo tamanho, e executa uma operação entre os elementos da mesma posição deste vetor. Esta operação é uma função que será chamada para cada posição deste vetor (ex: operacao(vetor1[i], vetor2[i])) e retornará o resultado desta operação. Caso os dois vetores sejam de tamanho diferentes, deve-se exibir uma mensagem de erro e não realizar a operação.\n",
    "\n",
    "# Veja o exemplo abaixo, considerando a operação soma (implementada no exercício 0.2).\n",
    "\n",
    "# Você deverá implementar a função executa_operacao_vetor e três operações distintas (por exemplo, soma(a, b), multiplica(a, b) e subtrai(a, b)), cada uma, criando uma função de forma uma diferente, siga o tutorial e o exercício anterior.\n",
    "\n",
    "# PS: Lembre-se de sempre rodar a função antes e trocar os null"
   ]
  },
  {
   "cell_type": "code",
   "execution_count": 12,
   "metadata": {},
   "outputs": [],
   "source": [
    "def executa_operacao_vetor(vetor1,vetor2):\n",
    "    if len(vetor1)==len(vetor2):\n",
    "        for num in range(len(vetor1)):\n",
    "            vetor1[num] = vetor1[num]+vetor2[num]\n",
    "    else:\n",
    "        print(\"Tamanhos diferentes\")\n",
    "    return vetor1"
   ]
  },
  {
   "cell_type": "code",
   "execution_count": 13,
   "metadata": {},
   "outputs": [
    {
     "name": "stdout",
     "output_type": "stream",
     "text": [
      "[14, 4, 2, 15]\n"
     ]
    }
   ],
   "source": [
    "vetor1 = [4,2,-1,10]\n",
    "vetor2 = [10,2,3,5]\n",
    "\n",
    "print(executa_operacao_vetor(vetor1,vetor2))"
   ]
  }
 ],
 "metadata": {
  "kernelspec": {
   "display_name": "Python 3 (ipykernel)",
   "language": "python",
   "name": "python3"
  },
  "language_info": {
   "codemirror_mode": {
    "name": "ipython",
    "version": 3
   },
   "file_extension": ".py",
   "mimetype": "text/x-python",
   "name": "python",
   "nbconvert_exporter": "python",
   "pygments_lexer": "ipython3",
   "version": "3.9.10"
  }
 },
 "nbformat": 4,
 "nbformat_minor": 4
}
